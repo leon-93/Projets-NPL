{
 "cells": [
  {
   "cell_type": "markdown",
   "id": "a71633a0",
   "metadata": {},
   "source": [
    "## PARTIE 1"
   ]
  },
  {
   "cell_type": "markdown",
   "id": "a66563ab",
   "metadata": {},
   "source": [
    "Exercice 0 : \n",
    "\n",
    "créer une expression qui reconnait un mail"
   ]
  },
  {
   "cell_type": "markdown",
   "id": "3bccfbd4",
   "metadata": {},
   "source": [
    "Exercice 1 :\n",
    "\n",
    "Écrivez un programme Python pour supprimer les parenthèses dans une chaîne de caractères.\n",
    "\n",
    "Exercice 2 :\n",
    "\n",
    "Écrivez un programme Python pour trouver l'occurrence et la position des sous-chaînes dans une chaîne..\n",
    "\n",
    "Exercice 3 :\n",
    "\n",
    "Écrivez un programme Python pour rechercher les nombres (0-9) de longueur comprise entre 1 et 3 dans une chaîne donnée.\n",
    "\n",
    "Exercice 4  :\n",
    "\n",
    "Écrivez un programme Python pour supprimer les zéros non significatifs d'une adresse IP.\n",
    "\n",
    "Exercice 5  :\n",
    "\n",
    "Écrivez un programme Python pour vérifier un nombre est décimale ou non avec une précision de 3."
   ]
  },
  {
   "cell_type": "markdown",
   "id": "24083068",
   "metadata": {},
   "source": [
    "ECERCICE1"
   ]
  },
  {
   "cell_type": "code",
   "execution_count": 1,
   "id": "39813b2a",
   "metadata": {},
   "outputs": [
    {
     "name": "stdout",
     "output_type": "stream",
     "text": [
      "Ceci est un exemple de suppression de parenthèses.\n"
     ]
    }
   ],
   "source": [
    "def supprimer_parentheses(chaine):\n",
    "    return ''.join(char for char in chaine if char not in {'(', ')'})\n",
    "\n",
    "# Exemple d'utilisation\n",
    "chaine_originale = \"Ceci est (un exemple) de (suppression de) parenthèses.\"\n",
    "chaine_sans_parentheses = supprimer_parentheses(chaine_originale)\n",
    "print(chaine_sans_parentheses)\n"
   ]
  },
  {
   "cell_type": "markdown",
   "id": "24e3d73c",
   "metadata": {},
   "source": [
    "EXERCICE 2"
   ]
  },
  {
   "cell_type": "code",
   "execution_count": 2,
   "id": "435d1eb2",
   "metadata": {},
   "outputs": [
    {
     "name": "stdout",
     "output_type": "stream",
     "text": [
      "Occurrence de 'python': 2\n",
      "Positions de 'python': [0, 43]\n"
     ]
    }
   ],
   "source": [
    "def trouver_occurrence_et_position(chaine, sous_chaine):\n",
    "    occurrences = chaine.count(sous_chaine)\n",
    "    positions = [i for i in range(len(chaine)) if chaine.startswith(sous_chaine, i)]\n",
    "\n",
    "    return occurrences, positions\n",
    "\n",
    "# Exemple d'utilisation\n",
    "chaine = \"python est un langage de programmation, et python est amusant.\"\n",
    "sous_chaine_a_trouver = \"python\"\n",
    "occurrences, positions = trouver_occurrence_et_position(chaine, sous_chaine_a_trouver)\n",
    "print(f\"Occurrence de '{sous_chaine_a_trouver}': {occurrences}\")\n",
    "print(f\"Positions de '{sous_chaine_a_trouver}': {positions}\")\n"
   ]
  },
  {
   "cell_type": "markdown",
   "id": "65d3bc0f",
   "metadata": {},
   "source": [
    "EXERCICE 3"
   ]
  },
  {
   "cell_type": "code",
   "execution_count": 3,
   "id": "aed37c72",
   "metadata": {},
   "outputs": [
    {
     "name": "stdout",
     "output_type": "stream",
     "text": [
      "['42', '123']\n"
     ]
    }
   ],
   "source": [
    "import re\n",
    "\n",
    "def trouver_nombres(chaine):\n",
    "    return re.findall(r'\\b\\d{1,3}\\b', chaine)\n",
    "\n",
    "# Exemple d'utilisation\n",
    "chaine = \"Les nombres dans cette chaîne sont 42, 123, 9876 et 1000.\"\n",
    "nombres_trouves = trouver_nombres(chaine)\n",
    "print(nombres_trouves)\n"
   ]
  },
  {
   "cell_type": "markdown",
   "id": "44ef0ad6",
   "metadata": {},
   "source": [
    "EXERCICE 4"
   ]
  },
  {
   "cell_type": "code",
   "execution_count": 4,
   "id": "c57c46a9",
   "metadata": {},
   "outputs": [
    {
     "name": "stdout",
     "output_type": "stream",
     "text": [
      "192.10.2.1\n"
     ]
    }
   ],
   "source": [
    "def supprimer_zeros_non_significatifs(ip):\n",
    "    octets = ip.split('.')\n",
    "    ip_sans_zeros = '.'.join(str(int(octet)) for octet in octets)\n",
    "    return ip_sans_zeros\n",
    "\n",
    "# Exemple d'utilisation\n",
    "adresse_ip = \"192.010.002.001\"\n",
    "ip_sans_zeros = supprimer_zeros_non_significatifs(adresse_ip)\n",
    "print(ip_sans_zeros)\n"
   ]
  },
  {
   "cell_type": "markdown",
   "id": "4dce53fd",
   "metadata": {},
   "source": [
    "EXERCICE5"
   ]
  },
  {
   "cell_type": "code",
   "execution_count": 5,
   "id": "cc3b65f8",
   "metadata": {},
   "outputs": [
    {
     "name": "stdout",
     "output_type": "stream",
     "text": [
      "3.14 est décimal : True\n"
     ]
    }
   ],
   "source": [
    "def est_decimal(nombre):\n",
    "    try:\n",
    "        float(nombre)\n",
    "        return True\n",
    "    except ValueError:\n",
    "        return False\n",
    "\n",
    "# Exemple d'utilisation\n",
    "nombre = \"3.14\"\n",
    "resultat = est_decimal(nombre)\n",
    "print(f\"{nombre} est décimal : {resultat}\")\n"
   ]
  },
  {
   "cell_type": "markdown",
   "id": "9d35bd3f",
   "metadata": {},
   "source": [
    "## PARTIE 2"
   ]
  },
  {
   "cell_type": "markdown",
   "id": "f1ea388f",
   "metadata": {},
   "source": [
    "a) Vérifiez si les chaînes données contiennent 0xB0. Affichez un résultat booléen comme indiqué ci-dessous."
   ]
  },
  {
   "cell_type": "code",
   "execution_count": 2,
   "id": "0d8c408c",
   "metadata": {},
   "outputs": [
    {
     "ename": "NameError",
     "evalue": "name 're' is not defined",
     "output_type": "error",
     "traceback": [
      "\u001b[1;31m---------------------------------------------------------------------------\u001b[0m",
      "\u001b[1;31mNameError\u001b[0m                                 Traceback (most recent call last)",
      "\u001b[1;32m~\\AppData\\Local\\Temp\\ipykernel_13948\\2218998198.py\u001b[0m in \u001b[0;36m<module>\u001b[1;34m\u001b[0m\n\u001b[0;32m      2\u001b[0m \u001b[0mline2\u001b[0m \u001b[1;33m=\u001b[0m \u001b[1;34m'end address: 0xFF, func2 address: 0xB0'\u001b[0m\u001b[1;33m\u001b[0m\u001b[1;33m\u001b[0m\u001b[0m\n\u001b[0;32m      3\u001b[0m \u001b[1;33m\u001b[0m\u001b[0m\n\u001b[1;32m----> 4\u001b[1;33m \u001b[0mprint\u001b[0m\u001b[1;33m(\u001b[0m\u001b[0mbool\u001b[0m\u001b[1;33m(\u001b[0m\u001b[0mre\u001b[0m\u001b[1;33m.\u001b[0m\u001b[0msearch\u001b[0m\u001b[1;33m(\u001b[0m\u001b[1;34mr''\u001b[0m\u001b[1;33m,\u001b[0m \u001b[0mline1\u001b[0m\u001b[1;33m)\u001b[0m\u001b[1;33m)\u001b[0m\u001b[1;33m)\u001b[0m     \u001b[1;31m##### add your solution here\u001b[0m\u001b[1;33m\u001b[0m\u001b[1;33m\u001b[0m\u001b[0m\n\u001b[0m\u001b[0;32m      5\u001b[0m \u001b[1;33m\u001b[0m\u001b[0m\n\u001b[0;32m      6\u001b[0m \u001b[0mprint\u001b[0m\u001b[1;33m(\u001b[0m\u001b[0mbool\u001b[0m\u001b[1;33m(\u001b[0m\u001b[0mre\u001b[0m\u001b[1;33m.\u001b[0m\u001b[0msearch\u001b[0m\u001b[1;33m(\u001b[0m\u001b[1;34mr''\u001b[0m\u001b[1;33m,\u001b[0m \u001b[0mline2\u001b[0m\u001b[1;33m)\u001b[0m\u001b[1;33m)\u001b[0m\u001b[1;33m)\u001b[0m     \u001b[1;31m##### add your solution here\u001b[0m\u001b[1;33m\u001b[0m\u001b[1;33m\u001b[0m\u001b[0m\n",
      "\u001b[1;31mNameError\u001b[0m: name 're' is not defined"
     ]
    }
   ],
   "source": [
    "line1 = 'start address: 0xA0, func1 address: 0xC0'\n",
    "line2 = 'end address: 0xFF, func2 address: 0xB0'\n",
    "\n",
    "print(bool(re.search(r'', line1)))     ##### add your solution here\n",
    "\n",
    "print(bool(re.search(r'', line2)))     ##### add your solution here"
   ]
  },
  {
   "cell_type": "markdown",
   "id": "9b4aa5be",
   "metadata": {},
   "source": [
    "b)Remplacer toutes les occurrences de 5 par cinq pour la chaîne donnée"
   ]
  },
  {
   "cell_type": "code",
   "execution_count": 3,
   "id": "b406d2e3",
   "metadata": {},
   "outputs": [
    {
     "ename": "NameError",
     "evalue": "name 're' is not defined",
     "output_type": "error",
     "traceback": [
      "\u001b[1;31m---------------------------------------------------------------------------\u001b[0m",
      "\u001b[1;31mNameError\u001b[0m                                 Traceback (most recent call last)",
      "\u001b[1;32m~\\AppData\\Local\\Temp\\ipykernel_13948\\1704848782.py\u001b[0m in \u001b[0;36m<module>\u001b[1;34m\u001b[0m\n\u001b[0;32m      1\u001b[0m \u001b[0mip\u001b[0m \u001b[1;33m=\u001b[0m \u001b[1;34m'They ate 5 apples and 5 oranges'\u001b[0m\u001b[1;33m\u001b[0m\u001b[1;33m\u001b[0m\u001b[0m\n\u001b[0;32m      2\u001b[0m \u001b[1;33m\u001b[0m\u001b[0m\n\u001b[1;32m----> 3\u001b[1;33m \u001b[0mprint\u001b[0m\u001b[1;33m(\u001b[0m\u001b[0mre\u001b[0m\u001b[1;33m.\u001b[0m\u001b[0msub\u001b[0m\u001b[1;33m(\u001b[0m\u001b[1;33m)\u001b[0m\u001b[1;33m)\u001b[0m        \u001b[1;31m##### add your solution here\u001b[0m\u001b[1;33m\u001b[0m\u001b[1;33m\u001b[0m\u001b[0m\n\u001b[0m",
      "\u001b[1;31mNameError\u001b[0m: name 're' is not defined"
     ]
    }
   ],
   "source": [
    "ip = 'They ate 5 apples and 5 oranges'\n",
    "\n",
    "print(re.sub())        ##### add your solution here"
   ]
  },
  {
   "cell_type": "markdown",
   "id": "d0e1d375",
   "metadata": {},
   "source": [
    "c) Pour la liste donnée, filtrez tous les éléments qui ne contiennent pas e."
   ]
  },
  {
   "cell_type": "code",
   "execution_count": 4,
   "id": "6a7099c5",
   "metadata": {},
   "outputs": [],
   "source": [
    "items = ['goal', 'new', 'user', 'sit', 'eat', 'dinner']\n",
    "\n",
    "##### add your solution here"
   ]
  },
  {
   "cell_type": "markdown",
   "id": "33f2f68a",
   "metadata": {},
   "source": [
    "d) Pour la liste donnée, filtrez tous les éléments qui contiennent à la fois e et n."
   ]
  },
  {
   "cell_type": "code",
   "execution_count": 5,
   "id": "44818110",
   "metadata": {},
   "outputs": [],
   "source": [
    "items = ['goal', 'new', 'user', 'sit', 'eat', 'dinner']\n",
    "\n",
    "##### add your solution here"
   ]
  },
  {
   "cell_type": "code",
   "execution_count": null,
   "id": "d6d7fa26",
   "metadata": {},
   "outputs": [],
   "source": []
  }
 ],
 "metadata": {
  "kernelspec": {
   "display_name": "Python 3 (ipykernel)",
   "language": "python",
   "name": "python3"
  },
  "language_info": {
   "codemirror_mode": {
    "name": "ipython",
    "version": 3
   },
   "file_extension": ".py",
   "mimetype": "text/x-python",
   "name": "python",
   "nbconvert_exporter": "python",
   "pygments_lexer": "ipython3",
   "version": "3.9.13"
  }
 },
 "nbformat": 4,
 "nbformat_minor": 5
}
